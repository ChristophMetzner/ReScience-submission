{
 "cells": [
  {
   "cell_type": "markdown",
   "metadata": {},
   "source": [
    "## Running the simulations from the article"
   ]
  },
  {
   "cell_type": "markdown",
   "metadata": {},
   "source": [
    "### Imports"
   ]
  },
  {
   "cell_type": "code",
   "execution_count": 3,
   "metadata": {
    "collapsed": true
   },
   "outputs": [],
   "source": [
    "import numpy as np\n",
    "from simple_model_class import simpleModel"
   ]
  },
  {
   "cell_type": "markdown",
   "metadata": {},
   "source": [
    "#### Parameters"
   ]
  },
  {
   "cell_type": "code",
   "execution_count": 4,
   "metadata": {
    "collapsed": true
   },
   "outputs": [],
   "source": [
    "n_ex    = 20 # number of excitatory cells\n",
    "n_inh   = 10 # number of inhibitory cells\n",
    "\n",
    "eta     = 5.0 # synaptic scaling parameter \n",
    "tau_R   = 0.1 # 'synaptic rise time'\n",
    "tau_ex  = 2.0 # exc. 'synaptic decay time'\n",
    "tau_inh_ctrl = 8.0  # inh. 'synaptic decay time' (control case)\n",
    "tau_inh_schiz = 28.0  # inh. 'synaptic decay time' (schizophrenia case)\n",
    " \n",
    "    \n",
    "\n",
    "g_ee    = 0.015 # E-E weight\n",
    "g_ei    = 0.025 # E-I weight\n",
    "g_ie    = 0.015 # I-E weight\n",
    "g_ii    = 0.02  # I-I weight\n",
    "g_de    = 0.3   # Drive-E weight\n",
    "g_di    = 0.08  # Drive-I weight\n",
    "\n",
    "\n",
    "s = 2**13\n",
    "sim_time = 500 # simulation stime (in ms) \n",
    "dt = float(sim_time)/float(s) # time step\n",
    "\n",
    "\n",
    "b_ex    = -0.01 # applied current for exc. cells\n",
    "b_inh   = -0.01 # applied current for inh. cells\n",
    "frequencies = [40.0,30.0,20.0] # different driving frequencies\n",
    "background_rate = 33.3 # rate of the background noise\n",
    "A = 0.5 # strength of the background noise\n",
    "\n",
    "\n",
    "seeds = np.load('../data/Seeds.npy') # the 20 different seeds for the random generator\n",
    "directory = '../data' # directory for the data"
   ]
  },
  {
   "cell_type": "markdown",
   "metadata": {},
   "source": [
    "### Run the simulations"
   ]
  },
  {
   "cell_type": "code",
   "execution_count": 5,
   "metadata": {
    "collapsed": false
   },
   "outputs": [
    {
     "name": "stdout",
     "output_type": "stream",
     "text": [
      "Drive Frequency: 40.0\n",
      "Trial number 0\n",
      "Trial number 1\n",
      "Trial number 2\n",
      "Trial number 3\n",
      "Trial number 4\n",
      "Trial number 5\n",
      "Trial number 6\n",
      "Trial number 7\n",
      "Trial number 8\n",
      "Trial number 9\n",
      "Trial number 10\n",
      "Trial number 11\n",
      "Trial number 12\n",
      "Trial number 13\n",
      "Trial number 14\n",
      "Trial number 15\n",
      "Trial number 16\n",
      "Trial number 17\n",
      "Trial number 18\n",
      "Trial number 19\n",
      "Drive Frequency: 30.0\n",
      "Trial number 0\n",
      "Trial number 1\n",
      "Trial number 2\n",
      "Trial number 3\n",
      "Trial number 4\n",
      "Trial number 5\n",
      "Trial number 6\n",
      "Trial number 7\n",
      "Trial number 8\n",
      "Trial number 9\n",
      "Trial number 10\n",
      "Trial number 11\n",
      "Trial number 12\n",
      "Trial number 13\n",
      "Trial number 14\n",
      "Trial number 15\n",
      "Trial number 16\n",
      "Trial number 17\n",
      "Trial number 18\n",
      "Trial number 19\n",
      "Drive Frequency: 20.0\n",
      "Trial number 0\n",
      "Trial number 1\n",
      "Trial number 2\n",
      "Trial number 3\n",
      "Trial number 4\n",
      "Trial number 5\n",
      "Trial number 6\n",
      "Trial number 7\n",
      "Trial number 8\n",
      "Trial number 9\n",
      "Trial number 10\n",
      "Trial number 11\n",
      "Trial number 12\n",
      "Trial number 13\n",
      "Trial number 14\n",
      "Trial number 15\n",
      "Trial number 16\n",
      "Trial number 17\n",
      "Trial number 18\n",
      "Trial number 19\n"
     ]
    }
   ],
   "source": [
    "for drive_frequency in frequencies:\n",
    "    print 'Drive Frequency:',drive_frequency\n",
    "    meg_ctrl_avg = np.zeros((8192,))\n",
    "    meg_schiz_avg = np.zeros((8192,))\n",
    "    for i,seed in enumerate(seeds):\n",
    "        print 'Trial number',i\n",
    "\n",
    "        filename_ctrl  = '/Single-Trial-Data-'+str(int(drive_frequency))+'Hz/sims_ctrl_'+str(int(drive_frequency))+'Hz'+str(i)\n",
    "        filename_schiz = '/Single-Trial-Data-'+str(int(drive_frequency))+'Hz/sims_schiz_'+str(int(drive_frequency))+'Hz'+str(i)\n",
    "        \n",
    "        # instantiate models\n",
    "        model_ctrl = simpleModel(n_ex,n_inh,eta,tau_R,tau_ex,tau_inh_ctrl,g_ee,g_ei,g_ie,g_ii,g_de,g_di,dt,b_ex,b_inh,drive_frequency,background_rate,A,seed,filename_ctrl,directory)\n",
    "        model_schiz = simpleModel(n_ex,n_inh,eta,tau_R,tau_ex,tau_inh_schiz,g_ee,g_ei,g_ie,g_ii,g_de,g_di,dt,b_ex,b_inh,drive_frequency,background_rate,A,seed,filename_schiz,directory)\n",
    "\n",
    "        # run models (and save data of individual trial)\n",
    "        meg_ctrl,ex_ctrl,inh_ctrl = model_ctrl.run(sim_time,1,1,1)\n",
    "        meg_schiz,ex_schiz,inh_schiz = model_schiz.run(sim_time,1,1,1)\n",
    "  \n",
    "        # add MEG signal to average\n",
    "        meg_ctrl_avg += meg_ctrl    \n",
    "        meg_schiz_avg += meg_schiz\n",
    "\n",
    "    # calculate average MEG signal\n",
    "    meg_ctrl_avg = meg_ctrl_avg*0.05 # since we have 20 simulations\n",
    "    meg_schiz_avg = meg_schiz_avg*0.05\n",
    "\n",
    "    # save average MEG signal\n",
    "    np.save(directory+'/sims_ctrl_avg_'+str(int(drive_frequency))+'Hz',meg_ctrl_avg)\n",
    "    np.save(directory+'/sims_schiz_avg_'+str(int(drive_frequency))+'Hz',meg_schiz_avg)"
   ]
  },
  {
   "cell_type": "code",
   "execution_count": null,
   "metadata": {
    "collapsed": true
   },
   "outputs": [],
   "source": []
  }
 ],
 "metadata": {
  "kernelspec": {
   "display_name": "Python 2",
   "language": "python",
   "name": "python2"
  },
  "language_info": {
   "codemirror_mode": {
    "name": "ipython",
    "version": 2
   },
   "file_extension": ".py",
   "mimetype": "text/x-python",
   "name": "python",
   "nbconvert_exporter": "python",
   "pygments_lexer": "ipython2",
   "version": "2.7.9"
  }
 },
 "nbformat": 4,
 "nbformat_minor": 1
}
